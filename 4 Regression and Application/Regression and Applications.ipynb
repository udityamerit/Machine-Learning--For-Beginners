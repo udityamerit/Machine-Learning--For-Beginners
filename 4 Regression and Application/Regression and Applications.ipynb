{
 "cells": [
  {
   "cell_type": "markdown",
   "id": "fb4dce82",
   "metadata": {},
   "source": [
    "# Introduction to Regression\n",
    "\n",
    "- Regression is a statistical method used to model the relationship between a dependent variable y and independent variable x.\n",
    "- It is a Supervised machine learning technique used to predict continuous values.\n",
    "- It is easiest and one of the most widely used machine learning algorithms.\n",
    "- Regression analysis helps to understand how the value of a dependent variable changes corresponding to an independent variable.\n",
    "- Using this technique we are predicts continuous or real values such as:\n",
    "    - Temperature\n",
    "    - Age\n",
    "    - Salary\n",
    "    - Price etc...\n",
    "- Regression algorithms plot a best-fit line or a curve between the data."
   ]
  },
  {
   "cell_type": "code",
   "execution_count": null,
   "id": "a189e57c",
   "metadata": {},
   "outputs": [],
   "source": []
  }
 ],
 "metadata": {
  "kernelspec": {
   "display_name": "Python 3 (ipykernel)",
   "language": "python",
   "name": "python3"
  },
  "language_info": {
   "codemirror_mode": {
    "name": "ipython",
    "version": 3
   },
   "file_extension": ".py",
   "mimetype": "text/x-python",
   "name": "python",
   "nbconvert_exporter": "python",
   "pygments_lexer": "ipython3",
   "version": "3.11.4"
  }
 },
 "nbformat": 4,
 "nbformat_minor": 5
}
