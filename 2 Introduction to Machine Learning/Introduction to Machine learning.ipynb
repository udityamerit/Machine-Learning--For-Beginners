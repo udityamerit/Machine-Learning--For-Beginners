{
 "cells": [
  {
   "cell_type": "markdown",
   "id": "03b15ad8",
   "metadata": {},
   "source": [
    "#   Introduction of Machine Learning\n",
    "\n",
    "In this module we are going to learn to we can use the machine in a effective ways and for the better utilization of any machine and how we can use the different techniques to teach a machine so that a machine can replicate the human behavior and work effectively. so there are some basics terms, which is we have to learn it. \n",
    "\n",
    "1. Machine Learning is the ability of a machine to learn from and replicate the human behavior.\n",
    "2. It allows programs to learn automatically and make computers more intelligent.\n",
    "\n",
    "### Key Differences in Artificial Intelligence(AI), Machine Learning(ML) and Deep Learning(DL)\n",
    "\n",
    "1. ML referes the algorithms that learn and perform based on the data exposed to it.\n",
    "     Machine Learning is used to classify the profile\n",
    "     of the bot's competitor, the human, as:\n",
    "\n",
    "2. DL referes to layers of neural networks built with Machine Learning algorithms.\n",
    "\n",
    "3. AI makes decisions with the help of a multi-layered neural network that uses DL\n"
   ]
  },
  {
   "cell_type": "code",
   "execution_count": null,
   "id": "eaf30369",
   "metadata": {},
   "outputs": [],
   "source": []
  }
 ],
 "metadata": {
  "kernelspec": {
   "display_name": "Python 3 (ipykernel)",
   "language": "python",
   "name": "python3"
  },
  "language_info": {
   "codemirror_mode": {
    "name": "ipython",
    "version": 3
   },
   "file_extension": ".py",
   "mimetype": "text/x-python",
   "name": "python",
   "nbconvert_exporter": "python",
   "pygments_lexer": "ipython3",
   "version": "3.11.4"
  }
 },
 "nbformat": 4,
 "nbformat_minor": 5
}
