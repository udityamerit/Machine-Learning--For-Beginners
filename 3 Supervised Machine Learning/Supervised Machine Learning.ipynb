{
 "cells": [
  {
   "cell_type": "markdown",
   "id": "f99b92bc",
   "metadata": {},
   "source": [
    "# Introdunction to Supervised Machine Learning\n",
    "Supervised learning algorithms are a category of machine learning models that rely on labeled data for training. In supervised learning, the algorithm learns to map inputs to outputs by analyzing a dataset that includes both the input features and the correct corresponding labels (the output). After the model is trained, it can be used to predict the label for new, unseen data.\n",
    "\n",
    "In Supervised Machine Learning:\n",
    "- Machines are trained with labelled data as input.\n",
    "- The Machine learning model identify:\n",
    "    - Patterns and methods\n",
    "    - Learn from them\n",
    "    - Predicts output\n",
    "    \n",
    "- Supervised Machine learning algorithms includes:\n",
    "    - Linear and Logistic regression\n",
    "    - Multi-class classification\n",
    "    - Decision trees\n",
    "    - Support vector machines\n",
    "    \n",
    "- Supervised machine learning  is used to detect:\n",
    "    - Forest fires\n",
    "    - Oil & gas tragedies\n",
    "    - Shipping fires\n",
    "    - Building fires\n",
    "    \n",
    "If we use the Supervised machine learning model to detection of fire incident in that case we have to include some parameters like:\n",
    "- Area spread of fire\n",
    "- smoke levels\n",
    "- Temperature\n",
    "- Rate of increase of spread\n",
    "- Outcome labelled as fire incident or not\n",
    "\n",
    "## Algorithms of Supervised Machine learning\n",
    "\n",
    "Supervised machine have a two types of algorithms:\n",
    "- Classification\n",
    "- Regression\n",
    "\n",
    "\n",
    "### Classification\n",
    "Classification algorithm segregates data into two or more categories with one or more inputs, a classification model predicts the value of one or more outcomes.\n",
    "\n",
    "we are use the classification model to segregate the emails into Spam or Ham, so first model examines the data to find patterns and methods to determine whether email is a Ham or a Spam\n",
    "\n",
    "### Regression\n",
    "Regression algorithms establishes the relationship between input and output variables which is suitable for situations where the output variable is a real or continuous value.\n",
    "\n",
    "A regression algorithm is used to forecast or predict the value of the stock market.\n",
    "\n"
   ]
  },
  {
   "cell_type": "markdown",
   "id": "6e588803",
   "metadata": {},
   "source": [
    "# Application of Supervised Machine Learning\n",
    "- Quality inspection in manufacturing: Inspects quality and classify manufactured products in the good condition or damaged condition.\n",
    "- Forecasting for the maritme industry\n",
    "- Fraud protection measurs\n",
    "- Waste management Systems\n",
    "- "
   ]
  }
 ],
 "metadata": {
  "kernelspec": {
   "display_name": "Python 3 (ipykernel)",
   "language": "python",
   "name": "python3"
  },
  "language_info": {
   "codemirror_mode": {
    "name": "ipython",
    "version": 3
   },
   "file_extension": ".py",
   "mimetype": "text/x-python",
   "name": "python",
   "nbconvert_exporter": "python",
   "pygments_lexer": "ipython3",
   "version": "3.11.4"
  }
 },
 "nbformat": 4,
 "nbformat_minor": 5
}
